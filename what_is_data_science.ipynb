{
 "cells": [
  {
   "cell_type": "markdown",
   "metadata": {
    "slideshow": {
     "slide_type": "slide"
    }
   },
   "source": [
    "<img src=\"http://imgur.com/1ZcRyrc.png\" style=\"float: left; margin: 20px; height: 55px\">\n",
    " \n",
    "# What is Data Science?\n",
    " \n",
    "_Authors: Alexander Egorenkov (DC), Amy Roberts (NYC)_\n",
    " \n",
    "---\n"
   ]
  },
  {
   "cell_type": "markdown",
   "metadata": {},
   "source": [
    "# What is Data Science?"
   ]
  },
  {
   "cell_type": "markdown",
   "metadata": {},
   "source": [
    "## Data Science Skills\n",
    "\n",
    "Data scientists use **data modeling** and **programming** skills to answer questions.\n",
    "\n",
    "They also need **business savvy** and **domain knowledge** to identify important questions that can be addressed using data science and **people skills** to get their solutions adopted."
   ]
  },
  {
   "cell_type": "markdown",
   "metadata": {},
   "source": [
    "## Data Science Examples\n",
    "\n",
    "**Machine learning questions:**\n",
    "\n",
    "- How can we use X to predict y? (Where X is a set of data and y is an outcome.)\n",
    "- What are the distinct groups in our data?\n",
    "- What are the key components of our data?\n",
    "- Is one of our observations “weird”?\n",
    "\n",
    "**Business questions:**\n",
    "\n",
    "- What is the likelihood that a customer will buy this product?\n",
    "- Is this a good or bad review?\n",
    "- How much demand will there be for my service tomorrow?\n",
    "- Is this the cheapest way to deliver my goods?\n",
    "- Is there a better way to segment my marketing strategies?\n",
    "- What groups of products are customers purchasing together?\n",
    "- Can we automate this simple yes/no decision?"
   ]
  },
  {
   "cell_type": "markdown",
   "metadata": {
    "slideshow": {
     "slide_type": "slide"
    }
   },
   "source": [
    "**Exercise (individual, post to Slack immediately).**\n",
    "\n",
    "List five products or services that you think utilize data science."
   ]
  },
  {
   "cell_type": "markdown",
   "metadata": {},
   "source": []
  },
  {
   "cell_type": "markdown",
   "metadata": {},
   "source": [
    "$\\blacksquare$"
   ]
  },
  {
   "cell_type": "markdown",
   "metadata": {},
   "source": [
    "---"
   ]
  },
  {
   "cell_type": "markdown",
   "metadata": {},
   "source": [
    "# The Data Science Workflow\n",
    "\n",
    "![](../assets/images/Data-Framework-White-BG.png)"
   ]
  },
  {
   "cell_type": "markdown",
   "metadata": {},
   "source": [
    "**Notes**\n",
    "\n",
    "- This process is often **iterative**.\n",
    "- Talking with subject-matter experts early and often greatly increases your chances of producing a useful result."
   ]
  },
  {
   "cell_type": "markdown",
   "metadata": {},
   "source": [
    "## Application: Data Science Workflow Through Ames Data"
   ]
  },
  {
   "cell_type": "markdown",
   "metadata": {},
   "source": [
    "### 1. Frame\n",
    "\n",
    "Identify:\n",
    "\n",
    "- High-level business objectives\n",
    "- Deliverables\n",
    "- Success criteria\n",
    "- Relevant data sets"
   ]
  },
  {
   "cell_type": "markdown",
   "metadata": {},
   "source": [
    "#### High-Level Business Objectives\n",
    "\n",
    "Suppose a real estate wants to predict prices for houses so that they can more reliably buy them at a discount, make cost-effective improvements, and sell them for a large profit."
   ]
  },
  {
   "cell_type": "markdown",
   "metadata": {},
   "source": [
    "#### Deliverables\n",
    "\n",
    "E.g.\n",
    "\n",
    "* Presentation to the real estate team\n",
    "* Business report discussing results, procedures used, and rationales\n",
    "* API that provides estimated returns"
   ]
  },
  {
   "cell_type": "markdown",
   "metadata": {},
   "source": [
    "#### Success Criteria\n",
    "\n",
    "This project will be considered a success if the estimated returns provided by the API are at least as accurate as the estimates that the company currently produces manually (while saving time).\n",
    "\n",
    "**Note:** It can be difficult to predict what level of performance a data science model will be able to achieve before you dig into the data and start building models. **Keep your criteria for success minimal** and **figure out as quickly as possible whether you are going to fail**."
   ]
  },
  {
   "cell_type": "markdown",
   "metadata": {},
   "source": [
    "#### Relevant Data Sets\n",
    "\n",
    "**Key questions:**\n",
    "\n",
    "- What data would be ideal?\n",
    "- What data is available?\n",
    "- What can we do to close that gap?\n",
    "- Is it plausible that we can succeed with the data we can get?"
   ]
  },
  {
   "cell_type": "markdown",
   "metadata": {
    "slideshow": {
     "slide_type": "notes"
    }
   },
   "source": [
    "**Subsidiary questions:**\n",
    "\n",
    "- Where is the data set coming from? How was it collected? Can it be trusted?\n",
    "- What variables does it contain?\n",
    "- If the data is spread across multiple pieces, how do those pieces fit together?\n",
    "- Do our data appropriately align with the question/problem statement?\n",
    "- Is this data set aggregated? Can we use the aggregation, or do we need to obtain it pre-aggregation?\n",
    "- Is there enough data?\n",
    "- Does the data cover all of the types of situations (times, places, etc.) to which we want to apply our model?\n",
    "- Is the data representative\n",
    "- How can we access it (e.g. file, database, web API, web scraping)?\n",
    "- What are the most appropriate tools for working with the data, given its size and format?"
   ]
  },
  {
   "cell_type": "markdown",
   "metadata": {},
   "source": [
    "**Exercise (5 mins, in groups).**\n",
    "\n",
    "Answer the following questions about the [Ames housing data set](../assets/data/ames_data_documentation.txt).\n",
    "\n",
    "- How closely does the set match the ideal data that you envisioned?\n",
    "- Would it be sufficient for our purposes?\n",
    "- What limitations does it have?"
   ]
  },
  {
   "cell_type": "markdown",
   "metadata": {},
   "source": []
  },
  {
   "cell_type": "markdown",
   "metadata": {},
   "source": [
    "$\\blacksquare$"
   ]
  },
  {
   "cell_type": "markdown",
   "metadata": {},
   "source": [
    "### 2. Prepare\n",
    "\n",
    "Data scientists often work with data that they did not collect (\"secondary data\"), so they have to use *data dictionaries* and other documentation to learn how the set was gathered.\n",
    "\n",
    "Here's an example of a data dictionary:\n",
    "\n",
    "Variable | Description | Type of Variable\n",
    "---| ---| ---\n",
    "Square Footage | Floating Point | Continuous\n",
    "Street Type | 1 - Gravel, 2 - Paved | Categorical\n",
    "Neighborhood | String, e.g., 'Lake View' | Categorical\n",
    "Number of Bedrooms | Integer | Discrete\n",
    "\n",
    "**Common data preparation steps**:\n",
    "\n",
    "- Addressing missing values\n",
    "- Addressing outliers\n",
    "- Restructuring\n",
    "- Reformatting\n",
    "- Aggregating\n",
    "- Transforming\n",
    "\n",
    "![](../assets/images/clean_data_borat.png)"
   ]
  },
  {
   "cell_type": "markdown",
   "metadata": {
    "slideshow": {
     "slide_type": "slide"
    }
   },
   "source": [
    "### 3. Analyze\n",
    "\n",
    "#### Descriptive Modeling\n",
    "\n",
    "Data scientists use statistics such as frequencies, means, and standard deviations to give compact descriptions of their data sets.\n",
    "\n",
    "Variable | Mean or Frequency (%)\n",
    "---| ---\n",
    "Square Footage | 2201.3\n",
    "Street Type - Gravel | 8%\n",
    "Street Type - Paved | 92%\n",
    "Number of Bedrooms | 1.8\n",
    "\n",
    "#### Predictive Modeling\n",
    "\n",
    "Data scientists build models to predict either discrete outcomes (e.g. this house will / will not sell in the next month) or continuous values (e.g. this house will sell for $358,000).\n",
    "\n",
    "**Predictive modeling will be a major focus of this course.**"
   ]
  },
  {
   "cell_type": "markdown",
   "metadata": {
    "slideshow": {
     "slide_type": "slide"
    }
   },
   "source": [
    "### 4. Interpret\n",
    "\n",
    "- Check your model for correctness.\n",
    "- Determine what your model is really telling you, keeping in mind the limitations of your data and modeling techniques.\n",
    "- Determine what one-off recommendations your model supports and/or what kinds of ongoing decisions it can support.\n",
    "- Get input from subject-matter experts!"
   ]
  },
  {
   "cell_type": "markdown",
   "metadata": {
    "slideshow": {
     "slide_type": "slide"
    }
   },
   "source": [
    "### 5. Communicate\n",
    "\n",
    "Without effective communication, your work will not be used.\n",
    "\n",
    "- Identify your goals.\n",
    "- Put the bottom line front and center: _\"Kitchen renovations have a positive return on investment, while other renovations do not.\"_\n",
    "- Speak the language of your audience (often $$$).\n",
    "- Practice, ideally with a real audience that can give useful feedback."
   ]
  },
  {
   "cell_type": "markdown",
   "metadata": {
    "slideshow": {
     "slide_type": "slide"
    }
   },
   "source": [
    "**Iterate, iterate, iterate.**"
   ]
  },
  {
   "cell_type": "markdown",
   "metadata": {},
   "source": [
    "<a id=\"summary1\"></a>\n",
    "## Summary\n",
    "\n",
    "Use the data science workflow to develop solutions.\n",
    "  - **Frame** a hypothesis.\n",
    "  - **Prepare** your data.\n",
    "  - **Analyze** your data.\n",
    "  - **Interpret** the results of your analysis in terms of your business.\n",
    "  - **Communicate** your results to different audiences."
   ]
  },
  {
   "cell_type": "markdown",
   "metadata": {},
   "source": [
    "---"
   ]
  },
  {
   "cell_type": "markdown",
   "metadata": {},
   "source": [
    "<a id=\"ML\"></a>\n",
    "\n",
    "# Introduction: Machine Learning"
   ]
  },
  {
   "cell_type": "markdown",
   "metadata": {},
   "source": [
    "- **Statistics** is about using data to draw *scientifically valid conclusions*.\n",
    "- **Machine learning** is about using data to get a computer to exhibit *intelligent behavior*."
   ]
  },
  {
   "cell_type": "markdown",
   "metadata": {},
   "source": [
    "## Example\n",
    "\n",
    "[Google Quick Draw](https://quickdraw.withgoogle.com/)"
   ]
  },
  {
   "cell_type": "markdown",
   "metadata": {},
   "source": [
    "<a id=\"common-ml-defs\"> </a>\n",
    "## Kinds of Machine Learning"
   ]
  },
  {
   "cell_type": "markdown",
   "metadata": {},
   "source": [
    "### Supervised Learning (a.k.a., “predictive modeling”):\n",
    "\n",
    "Given a bunch of examples with input features and an output label, predict the output label for new examples.\n",
    "\n",
    "**Examples:**\n",
    "\n",
    "- Predict the price of a house based on its neighborhood, number of bedrooms, etc.\n",
    "- Predict whether an email is spam or \"ham\" based on its contents.\n",
    "\n",
    "Predicting a *continuous value* such as house price is called **regression**.\n",
    "\n",
    "Predicting a *discrete category* such as spam or ham is called **classification**.\n",
    "\n",
    "**Major challenges:**\n",
    "\n",
    "- Getting good labeled data.\n",
    "- Keeping focus on business value rather than just building the most accurate model."
   ]
  },
  {
   "cell_type": "markdown",
   "metadata": {},
   "source": [
    "### Unsupervised Learning\n",
    "\n",
    "Given a bunch of examples with features, find some kind of structure.\n",
    "\n",
    "**Examples:**\n",
    "\n",
    "- Put coins into groups that are similar to one another in terms of weight, composition, etc.\n",
    "- Identify five traits that capture a large proportion of the personality variation among people.\n",
    "- Flag unusual-looking credit card transactions.\n",
    "\n",
    "Representing objects as members of *groups* is called **clustering**.\n",
    "\n",
    "Representing objects in terms of a smaller number of features than you started with is called **dimensionality reduction**.\n",
    "\n",
    "Identifying unusual objects is called **anomaly detection**.\n",
    "\n",
    "**Major challenge:** Evaluating performance in the absence of labels."
   ]
  },
  {
   "cell_type": "markdown",
   "metadata": {},
   "source": [
    "**Exercise (6 mins, in groups).**\n",
    "\n",
    "Apply two of the following labels to each task below. For instance, the following task would get the labels \"supervised learning\" and \"regression:\" \"Given data on prior home sales that includes home features (e.g. number of bedrooms) and sales price, predict sales prices for a new set of homes described by the same features.\"\n",
    "\n",
    "**Labels:**\n",
    "\n",
    "- Supervised learning\n",
    "- Unsupervised learning\n",
    "- Regression\n",
    "- Classification\n",
    "- Clustering\n",
    "- Dimensionality reduction\n",
    "- Anomaly detection\n",
    "\n",
    "**Tasks:**\n",
    "\n",
    "1. Given a set of music audio files, group those files by music style.\n",
    "1. Derive \"musical fingerprints\" that allow an algorithm running on a remote server to identify what song a phone user is hearing with as little data transmission as possible.\n",
    "1. Given sensor data from a locomotive and times within the data set in which the engine failed, predict engine failure from new sensor data.\n",
    "1. Given sensor data from a locomotive, identify periods of time in which the engine is behaving abnormally.\n",
    "1. Given a set of chest X-rays with physician's diagnoses, identify which patients in a new set of chest X-rays have pneumonia.\n",
    "1. Given sensor data from a locomotive that includes GPS and fuel consumption information, predict how much fuel a locomotive will consume on a trip between two specified points."
   ]
  },
  {
   "cell_type": "markdown",
   "metadata": {},
   "source": []
  },
  {
   "cell_type": "markdown",
   "metadata": {},
   "source": [
    "$\\blacksquare$"
   ]
  },
  {
   "cell_type": "markdown",
   "metadata": {},
   "source": [
    "## Machine Learning Algorithms\n",
    "\n",
    "A machine learning **algorithm** is a procedure for training a **model**.\n",
    "\n",
    "For instance, suppose we think that home prices are on average some fixed multiple of floor area. Of course, this relationship is not exact; there is some \"noise\" due to variables that we are not included in our simple model (number of bedrooms, neighborhood, etc.). We acknowledge these variables by including an \"error term\" $\\epsilon$ (\"epsilon\") in our model:\n",
    "\n",
    "$$price = m * floor\\ area + \\epsilon$$\n",
    "\n",
    "To use this model to make predictions, we need to choose a value for the multiplier $m$. Given many examples of floor area and price, we can use a machine learning *algorithm* to choose the value for $m$ that gives the best results on those examples. The result is a **fitted model**, e.g.\n",
    "\n",
    "$$ price = 114 * floor\\ area + \\epsilon  $$\n",
    "\n",
    "The process of choosing the general relationship $price = m * floor\\ area + \\epsilon$ is called **model building**.\n",
    "\n",
    "The process of applying an algorithm to data to choose a value for the parameter $m$ is called **model training.**"
   ]
  },
  {
   "cell_type": "markdown",
   "metadata": {},
   "source": [
    "**Exercise (10 mins, individual).**\n",
    "\n",
    "Use the [Ames Data Set documentation](../assets/data/ames_data_documentation.txt) to answers the following questions:\n",
    "\n",
    "- What is a potential target in your data for a regression model?\n",
    "- What is a potential target in your data for a classification model?\n",
    "- Could unsupervised learning be used within this data? How so?\n",
    "\n",
    "Then pick one of your targets and sketch out what a data science workflow would look like for that question. For each stage in the workflow, identify one or two steps that you think would be particularly important for this data set.\n",
    "\n",
    "You might also consult the [Ames Data Set Introduction PDF](../assets/data/ames.pdf)."
   ]
  },
  {
   "cell_type": "markdown",
   "metadata": {},
   "source": []
  },
  {
   "cell_type": "markdown",
   "metadata": {},
   "source": [
    "$\\blacksquare$"
   ]
  },
  {
   "cell_type": "markdown",
   "metadata": {},
   "source": [
    "# Why Not Use GUI Tools (Excel, Power BI, Tableau, etc.)?"
   ]
  },
  {
   "cell_type": "markdown",
   "metadata": {},
   "source": [
    "GUI tools such as Excel, Power BI, and Tableau have their place, but open-source programming languages such as Python are vastly superior in some important respects:\n",
    "\n",
    "- **Flexibility:** Standard programming languages are [Turing Complete](https://en.wikipedia.org/wiki/Turing_completeness), so they can (in principle) solve any problem that can be solved with a computer.\n",
    "- **Performance:** Numerical computing libraries such as NumPy for Python are highly optimized for speed and memory efficiency. If that's not enough, you can drop down to a lower-level language for further optimizations and/or run many jobs in parallel across multiple computers. By contrast, Excel doesn't even let you look at more than medium-sized data.\n",
    "- **Extensibility:** Anyone in the world can create and publish a package that extends the language. As a result, the package ecosystem for doing data science in Python is incredible, and it is constantly improving.\n",
    "- **Transparency and Reproducibility:** When you use code to analyze data, that code serves as a record of exactly what you did. Having such a record makes it easier to catch errors and to apply the same steps to new data. By contrast, [Excel is notoriously good at hiding errors](https://www.theverge.com/2013/4/17/4234136/excel-calculation-error-infamous-economic-study).\n",
    "- **Deployability:** Code can be set up to run automatically, e.g. to create scheduled reports or to recommend products on a website in real time.\n",
    "- **Version Control:** Code can be put into a version control system so that you can inspect how it has changed over time and roll it back when something goes wrong."
   ]
  }
 ],
 "metadata": {
  "kernelspec": {
   "display_name": "Python 3",
   "language": "python",
   "name": "python3"
  },
  "language_info": {
   "codemirror_mode": {
    "name": "ipython",
    "version": 3
   },
   "file_extension": ".py",
   "mimetype": "text/x-python",
   "name": "python",
   "nbconvert_exporter": "python",
   "pygments_lexer": "ipython3",
   "version": "3.6.6"
  }
 },
 "nbformat": 4,
 "nbformat_minor": 2
}
